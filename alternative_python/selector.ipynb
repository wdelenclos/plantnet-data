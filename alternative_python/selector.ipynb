{
 "cells": [
  {
   "cell_type": "code",
   "execution_count": 1,
   "metadata": {},
   "outputs": [],
   "source": [
    "import os\n",
    "import matplotlib.pyplot as plt\n",
    "import numpy as np\n",
    "import pandas as pd\n",
    "import shutil\n",
    "import cv2\n",
    "import random"
   ]
  },
  {
   "cell_type": "code",
   "execution_count": 2,
   "metadata": {},
   "outputs": [],
   "source": [
    "DATA_DIR = 'C:/Users/bocqu/Documents/hetic/MD5/datascience/cleanData'"
   ]
  },
  {
   "cell_type": "code",
   "execution_count": 3,
   "metadata": {},
   "outputs": [],
   "source": [
    "cat = os.listdir(DATA_DIR)\n",
    "random.shuffle(cat)\n",
    "cat = cat[:10]"
   ]
  },
  {
   "cell_type": "code",
   "execution_count": 4,
   "metadata": {},
   "outputs": [],
   "source": [
    "if not os.path.isdir(\"./selectedData\") :\n",
    "    os.mkdir(\"./selectedData\")"
   ]
  },
  {
   "cell_type": "code",
   "execution_count": 7,
   "metadata": {},
   "outputs": [],
   "source": [
    "for category in cat :\n",
    "    if not os.path.isdir(\"./selectedData/\"+category) :\n",
    "        os.mkdir(\"./selectedData/\"+category)\n",
    "        \n",
    "    for file in os.listdir(DATA_DIR+'/'+category):\n",
    "            if os.path.isfile(os.path.join(DATA_DIR+'/'+category,file)):\n",
    "                if not os.path.isfile('./selectedData/'+category+\"/\"+file):\n",
    "                    image = cv2.imread(os.path.join(DATA_DIR+'/'+category,file))\n",
    "                    image_original = cv2.resize(image,(150,150))\n",
    "                    image_flip_horizontal = cv2.flip(image_original,1)\n",
    "                    image_flip_vertical = cv2.flip(image_original,0)\n",
    "                    image_flip_both = cv2.flip(image_original,-1)\n",
    "                    cv2.imwrite('./selectedData/'+category+\"/original_\"+file, image_original) \n",
    "                    cv2.imwrite('./selectedData/'+category+\"/flip_horizontal_\"+file, image_flip_horizontal) \n",
    "                    cv2.imwrite('./selectedData/'+category+\"/flip_vertical_\"+file, image_flip_vertical) \n",
    "                    cv2.imwrite('./selectedData/'+category+\"/flip_both_\"+file, image_flip_both) "
   ]
  }
 ],
 "metadata": {
  "kernelspec": {
   "display_name": "Python 3",
   "language": "python",
   "name": "python3"
  },
  "language_info": {
   "codemirror_mode": {
    "name": "ipython",
    "version": 3
   },
   "file_extension": ".py",
   "mimetype": "text/x-python",
   "name": "python",
   "nbconvert_exporter": "python",
   "pygments_lexer": "ipython3",
   "version": "3.7.4"
  }
 },
 "nbformat": 4,
 "nbformat_minor": 2
}
{
 "cells": [
  {
   "cell_type": "code",
   "execution_count": 2,
   "metadata": {},
   "outputs": [],
   "source": [
    "import os\n",
    "import matplotlib.pyplot as plt\n",
    "import numpy as np\n",
    "import pandas as pd\n",
    "import shutil\n",
    "import cv2\n",
    "import random"
   ]
  },
  {
   "cell_type": "code",
   "execution_count": 7,
   "metadata": {},
   "outputs": [],
   "source": [
    "rawData = pd.read_csv('../dataset/Data/ImageCLEFF2013PlantTaskMasterFileFinal.csv',delimiter=\";\")"
   ]
  },
  {
   "cell_type": "code",
   "execution_count": 14,
   "metadata": {},
   "outputs": [
    {
     "data": {
      "text/plain": [
       "26077"
      ]
     },
     "execution_count": 14,
     "metadata": {},
     "output_type": "execute_result"
    }
   ],
   "source": [
    "tab = []\n",
    "for file in rawData['ImageNameTmp'] :\n",
    "    if os.path.isfile('../dataset/Data/DetailledHtmlViewsOfDatasets/thumbs150/'+file.replace(' ', '')):\n",
    "        tab.append(True)\n",
    "    else :\n",
    "        tab.append(False)\n",
    "df = rawData[tab]\n",
    "\n",
    "df = df[['GenusSpecies','ImageNameTmp']]\n",
    "len(df)"
   ]
  },
  {
   "cell_type": "code",
   "execution_count": 16,
   "metadata": {},
   "outputs": [],
   "source": [
    "types = df.GenusSpecies.unique()\n",
    "if not os.path.isdir(\"./cleanData\") :\n",
    "    os.mkdir(\"./cleanData\")\n",
    "    \n",
    "for type in types :\n",
    "    str = type.strip().replace(' ','_')\n",
    "    if not os.path.isdir(\"./cleanData/\"+str) :\n",
    "        os.mkdir(\"./cleanData/\"+str)\n",
    "        \n",
    "for row in df.iterrows():\n",
    "    if not os.path.isfile('./cleanData/'+row[1][0].strip().replace(' ','_')+'/'+row[1][1]) :\n",
    "        shutil.copyfile('./TestAndTaskPackage/Data/DetailledHtmlViewsOfDatasets/thumbs150/'+row[1][1] , './cleanData/'+row[1][0].strip().replace(' ','_')+'/'+row[1][1])\n",
    "    "
   ]
  }
 ],
 "metadata": {
  "kernelspec": {
   "display_name": "Python 3",
   "language": "python",
   "name": "python3"
  },
  "language_info": {
   "codemirror_mode": {
    "name": "ipython",
    "version": 3
   },
   "file_extension": ".py",
   "mimetype": "text/x-python",
   "name": "python",
   "nbconvert_exporter": "python",
   "pygments_lexer": "ipython3",
   "version": "3.7.4"
  }
 },
 "nbformat": 4,
 "nbformat_minor": 2
}